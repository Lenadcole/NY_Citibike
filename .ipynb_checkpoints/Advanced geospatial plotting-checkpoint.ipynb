{
 "cells": [
  {
   "cell_type": "markdown",
   "id": "43703d32-578f-41fe-91d7-50165eb2e7ab",
   "metadata": {},
   "source": [
    "# Advanced Geospatial Plotting"
   ]
  },
  {
   "cell_type": "markdown",
   "id": "8bb11341-f29e-4f0f-bd90-69b0c14bb9c2",
   "metadata": {},
   "source": [
    "## This script contains the following:\n",
    "\n",
    "### 1. Import libraries and data\n",
    "\n",
    "### 2. Create value column and aggregated datframe\n",
    "\n",
    "### 3. Merge data to create longitude and latitude data for Chigago\n",
    "\n",
    "### 4. Initialise instance of kepler.gl map\n",
    "\n",
    "### 5. Customise map output\n",
    "\n",
    "### 6. Add filter to map\n",
    "\n",
    "### 7. Create config object"
   ]
  },
  {
   "cell_type": "markdown",
   "id": "cfec3d76-ce61-4983-857f-7fa11dc3e1ea",
   "metadata": {},
   "source": [
    "### 1. Import libraries and data"
   ]
  },
  {
   "cell_type": "code",
   "execution_count": 1,
   "id": "1f2ba99e-95ce-4553-81ba-93b1d6b92e05",
   "metadata": {},
   "outputs": [],
   "source": [
    "# import libraries\n",
    "\n",
    "import pandas as pd\n",
    "import os\n",
    "from keplergl import KeplerGl\n",
    "from pyproj import CRS\n",
    "import numpy as np\n",
    "from matplotlib import pyplot as plt"
   ]
  },
  {
   "cell_type": "code",
   "execution_count": 2,
   "id": "261a71c4-5ee0-496d-a3cc-fd8209662dd1",
   "metadata": {},
   "outputs": [
    {
     "data": {
      "text/plain": [
       "'1.5.1'"
      ]
     },
     "execution_count": 2,
     "metadata": {},
     "output_type": "execute_result"
    }
   ],
   "source": [
    "import keplergl\n",
    "pd.__version__"
   ]
  },
  {
   "cell_type": "code",
   "execution_count": 3,
   "id": "db23fb94-5430-4ac3-bf67-c4eae7869540",
   "metadata": {},
   "outputs": [],
   "source": [
    "df = pd.read_csv('chicago_data.csv', index_col= 0)"
   ]
  },
  {
   "cell_type": "markdown",
   "id": "f9ae1fc2-8f89-4dc0-96b1-569bcffad74a",
   "metadata": {},
   "source": [
    "### 2. Create value column and aggregated dataframe"
   ]
  },
  {
   "cell_type": "code",
   "execution_count": 4,
   "id": "9bfc49ca-5d43-4bb0-979f-ad6181d3d78e",
   "metadata": {},
   "outputs": [],
   "source": [
    "# create value column and group by 'start' and 'end' station\n",
    "\n",
    "df['value'] = 1\n",
    "df_group = df.groupby(['from_station_name', 'to_station_name'])['value'].count().reset_index()"
   ]
  },
  {
   "cell_type": "code",
   "execution_count": 5,
   "id": "da12e59b-ded4-4a02-a460-0824a8c8e35b",
   "metadata": {},
   "outputs": [
    {
     "data": {
      "text/html": [
       "<div>\n",
       "<style scoped>\n",
       "    .dataframe tbody tr th:only-of-type {\n",
       "        vertical-align: middle;\n",
       "    }\n",
       "\n",
       "    .dataframe tbody tr th {\n",
       "        vertical-align: top;\n",
       "    }\n",
       "\n",
       "    .dataframe thead th {\n",
       "        text-align: right;\n",
       "    }\n",
       "</style>\n",
       "<table border=\"1\" class=\"dataframe\">\n",
       "  <thead>\n",
       "    <tr style=\"text-align: right;\">\n",
       "      <th></th>\n",
       "      <th>from_station_name</th>\n",
       "      <th>to_station_name</th>\n",
       "      <th>value</th>\n",
       "    </tr>\n",
       "  </thead>\n",
       "  <tbody>\n",
       "    <tr>\n",
       "      <th>0</th>\n",
       "      <td>2112 W Peterson Ave</td>\n",
       "      <td>2112 W Peterson Ave</td>\n",
       "      <td>14</td>\n",
       "    </tr>\n",
       "    <tr>\n",
       "      <th>1</th>\n",
       "      <td>2112 W Peterson Ave</td>\n",
       "      <td>Ashland Ave &amp; Belle Plaine Ave</td>\n",
       "      <td>1</td>\n",
       "    </tr>\n",
       "    <tr>\n",
       "      <th>2</th>\n",
       "      <td>2112 W Peterson Ave</td>\n",
       "      <td>Avondale Ave &amp; Irving Park Rd</td>\n",
       "      <td>1</td>\n",
       "    </tr>\n",
       "    <tr>\n",
       "      <th>3</th>\n",
       "      <td>2112 W Peterson Ave</td>\n",
       "      <td>Benson Ave &amp; Church St</td>\n",
       "      <td>2</td>\n",
       "    </tr>\n",
       "    <tr>\n",
       "      <th>4</th>\n",
       "      <td>2112 W Peterson Ave</td>\n",
       "      <td>Broadway &amp; Argyle St</td>\n",
       "      <td>2</td>\n",
       "    </tr>\n",
       "    <tr>\n",
       "      <th>...</th>\n",
       "      <td>...</td>\n",
       "      <td>...</td>\n",
       "      <td>...</td>\n",
       "    </tr>\n",
       "    <tr>\n",
       "      <th>113674</th>\n",
       "      <td>Yates Blvd &amp; 75th St</td>\n",
       "      <td>South Shore Dr &amp; 74th St</td>\n",
       "      <td>2</td>\n",
       "    </tr>\n",
       "    <tr>\n",
       "      <th>113675</th>\n",
       "      <td>Yates Blvd &amp; 75th St</td>\n",
       "      <td>Stony Island Ave &amp; 71st St</td>\n",
       "      <td>2</td>\n",
       "    </tr>\n",
       "    <tr>\n",
       "      <th>113676</th>\n",
       "      <td>Yates Blvd &amp; 75th St</td>\n",
       "      <td>Stony Island Ave &amp; 75th St</td>\n",
       "      <td>3</td>\n",
       "    </tr>\n",
       "    <tr>\n",
       "      <th>113677</th>\n",
       "      <td>Yates Blvd &amp; 75th St</td>\n",
       "      <td>Woodlawn Ave &amp; 55th St</td>\n",
       "      <td>2</td>\n",
       "    </tr>\n",
       "    <tr>\n",
       "      <th>113678</th>\n",
       "      <td>Yates Blvd &amp; 75th St</td>\n",
       "      <td>Yates Blvd &amp; 75th St</td>\n",
       "      <td>21</td>\n",
       "    </tr>\n",
       "  </tbody>\n",
       "</table>\n",
       "<p>113679 rows × 3 columns</p>\n",
       "</div>"
      ],
      "text/plain": [
       "           from_station_name                 to_station_name  value\n",
       "0        2112 W Peterson Ave             2112 W Peterson Ave     14\n",
       "1        2112 W Peterson Ave  Ashland Ave & Belle Plaine Ave      1\n",
       "2        2112 W Peterson Ave   Avondale Ave & Irving Park Rd      1\n",
       "3        2112 W Peterson Ave          Benson Ave & Church St      2\n",
       "4        2112 W Peterson Ave            Broadway & Argyle St      2\n",
       "...                      ...                             ...    ...\n",
       "113674  Yates Blvd & 75th St        South Shore Dr & 74th St      2\n",
       "113675  Yates Blvd & 75th St      Stony Island Ave & 71st St      2\n",
       "113676  Yates Blvd & 75th St      Stony Island Ave & 75th St      3\n",
       "113677  Yates Blvd & 75th St          Woodlawn Ave & 55th St      2\n",
       "113678  Yates Blvd & 75th St            Yates Blvd & 75th St     21\n",
       "\n",
       "[113679 rows x 3 columns]"
      ]
     },
     "execution_count": 5,
     "metadata": {},
     "output_type": "execute_result"
    }
   ],
   "source": [
    "df_group"
   ]
  },
  {
   "cell_type": "code",
   "execution_count": 6,
   "id": "7f1aebbd-2204-43ad-ad17-25c231ef64e1",
   "metadata": {},
   "outputs": [
    {
     "name": "stdout",
     "output_type": "stream",
     "text": [
      "3603082\n",
      "(3603082, 16)\n"
     ]
    }
   ],
   "source": [
    "print(df_group['value'].sum())\n",
    "print(df.shape)"
   ]
  },
  {
   "cell_type": "code",
   "execution_count": 7,
   "id": "7ac7d388-6d39-4cd8-9a93-e9c25ff885a5",
   "metadata": {},
   "outputs": [],
   "source": [
    "\"\"\" rename columns to use in merge of dataframes \"\"\"\n",
    "\n",
    "df_group.rename(columns = {'from_station_name':'start_station_name','to_station_name' : 'end_station_name',\n",
    "                          'value': 'trips'}, inplace = True)"
   ]
  },
  {
   "cell_type": "markdown",
   "id": "1a4a17c9-7284-474e-9cea-6c87c249ebfb",
   "metadata": {},
   "source": [
    "### 3. Merge data to create longitude and latitude data for Chigago"
   ]
  },
  {
   "cell_type": "code",
   "execution_count": 8,
   "id": "18b1b074-3740-4e7c-87fb-0bcebf503af6",
   "metadata": {},
   "outputs": [],
   "source": [
    "# load location data\n",
    "\n",
    "df_stations = pd.read_csv('Divvy_Bicycle_Stations_20241112.csv', index_col = 0)"
   ]
  },
  {
   "cell_type": "code",
   "execution_count": 9,
   "id": "8c68d33c-b990-46b4-b736-5940b9ea5f16",
   "metadata": {},
   "outputs": [
    {
     "data": {
      "text/html": [
       "<div>\n",
       "<style scoped>\n",
       "    .dataframe tbody tr th:only-of-type {\n",
       "        vertical-align: middle;\n",
       "    }\n",
       "\n",
       "    .dataframe tbody tr th {\n",
       "        vertical-align: top;\n",
       "    }\n",
       "\n",
       "    .dataframe thead th {\n",
       "        text-align: right;\n",
       "    }\n",
       "</style>\n",
       "<table border=\"1\" class=\"dataframe\">\n",
       "  <thead>\n",
       "    <tr style=\"text-align: right;\">\n",
       "      <th></th>\n",
       "      <th>Station Name</th>\n",
       "      <th>Short Name</th>\n",
       "      <th>Total Docks</th>\n",
       "      <th>Docks in Service</th>\n",
       "      <th>Status</th>\n",
       "      <th>Latitude</th>\n",
       "      <th>Longitude</th>\n",
       "      <th>Location</th>\n",
       "    </tr>\n",
       "    <tr>\n",
       "      <th>ID</th>\n",
       "      <th></th>\n",
       "      <th></th>\n",
       "      <th></th>\n",
       "      <th></th>\n",
       "      <th></th>\n",
       "      <th></th>\n",
       "      <th></th>\n",
       "      <th></th>\n",
       "    </tr>\n",
       "  </thead>\n",
       "  <tbody>\n",
       "    <tr>\n",
       "      <th>a3ad5c90-a135-11e9-9cda-0a87ae2ba916</th>\n",
       "      <td>Dorchester Ave &amp; 49th St</td>\n",
       "      <td>KA1503000069</td>\n",
       "      <td>15</td>\n",
       "      <td>15</td>\n",
       "      <td>In Service</td>\n",
       "      <td>41.805772</td>\n",
       "      <td>-87.592464</td>\n",
       "      <td>POINT (-87.592464 41.805772)</td>\n",
       "    </tr>\n",
       "    <tr>\n",
       "      <th>1571105068000485406</th>\n",
       "      <td>Narragansett &amp; Irving Park</td>\n",
       "      <td>NaN</td>\n",
       "      <td>9</td>\n",
       "      <td>9</td>\n",
       "      <td>In Service</td>\n",
       "      <td>41.952614</td>\n",
       "      <td>-87.785383</td>\n",
       "      <td>POINT (-87.7853829 41.952614)</td>\n",
       "    </tr>\n",
       "    <tr>\n",
       "      <th>a3b2af02-a135-11e9-9cda-0a87ae2ba916</th>\n",
       "      <td>MLK Jr Dr &amp; 83rd St</td>\n",
       "      <td>586</td>\n",
       "      <td>11</td>\n",
       "      <td>11</td>\n",
       "      <td>In Service</td>\n",
       "      <td>41.743116</td>\n",
       "      <td>-87.614800</td>\n",
       "      <td>POINT (-87.6148 41.743116)</td>\n",
       "    </tr>\n",
       "    <tr>\n",
       "      <th>1594046405283107528</th>\n",
       "      <td>California &amp; 16th St</td>\n",
       "      <td>NaN</td>\n",
       "      <td>9</td>\n",
       "      <td>9</td>\n",
       "      <td>In Service</td>\n",
       "      <td>41.859228</td>\n",
       "      <td>-87.695562</td>\n",
       "      <td>POINT (-87.695562 41.859228)</td>\n",
       "    </tr>\n",
       "    <tr>\n",
       "      <th>a3aa017e-a135-11e9-9cda-0a87ae2ba916</th>\n",
       "      <td>Southport Ave &amp; Clark St</td>\n",
       "      <td>TA1308000047</td>\n",
       "      <td>11</td>\n",
       "      <td>11</td>\n",
       "      <td>In Service</td>\n",
       "      <td>41.957081</td>\n",
       "      <td>-87.664199</td>\n",
       "      <td>POINT (-87.664199 41.957081)</td>\n",
       "    </tr>\n",
       "  </tbody>\n",
       "</table>\n",
       "</div>"
      ],
      "text/plain": [
       "                                                    Station Name  \\\n",
       "ID                                                                 \n",
       "a3ad5c90-a135-11e9-9cda-0a87ae2ba916    Dorchester Ave & 49th St   \n",
       "1571105068000485406                   Narragansett & Irving Park   \n",
       "a3b2af02-a135-11e9-9cda-0a87ae2ba916         MLK Jr Dr & 83rd St   \n",
       "1594046405283107528                         California & 16th St   \n",
       "a3aa017e-a135-11e9-9cda-0a87ae2ba916    Southport Ave & Clark St   \n",
       "\n",
       "                                        Short Name  Total Docks  \\\n",
       "ID                                                                \n",
       "a3ad5c90-a135-11e9-9cda-0a87ae2ba916  KA1503000069           15   \n",
       "1571105068000485406                            NaN            9   \n",
       "a3b2af02-a135-11e9-9cda-0a87ae2ba916           586           11   \n",
       "1594046405283107528                            NaN            9   \n",
       "a3aa017e-a135-11e9-9cda-0a87ae2ba916  TA1308000047           11   \n",
       "\n",
       "                                      Docks in Service      Status   Latitude  \\\n",
       "ID                                                                              \n",
       "a3ad5c90-a135-11e9-9cda-0a87ae2ba916                15  In Service  41.805772   \n",
       "1571105068000485406                                  9  In Service  41.952614   \n",
       "a3b2af02-a135-11e9-9cda-0a87ae2ba916                11  In Service  41.743116   \n",
       "1594046405283107528                                  9  In Service  41.859228   \n",
       "a3aa017e-a135-11e9-9cda-0a87ae2ba916                11  In Service  41.957081   \n",
       "\n",
       "                                      Longitude                       Location  \n",
       "ID                                                                              \n",
       "a3ad5c90-a135-11e9-9cda-0a87ae2ba916 -87.592464   POINT (-87.592464 41.805772)  \n",
       "1571105068000485406                  -87.785383  POINT (-87.7853829 41.952614)  \n",
       "a3b2af02-a135-11e9-9cda-0a87ae2ba916 -87.614800     POINT (-87.6148 41.743116)  \n",
       "1594046405283107528                  -87.695562   POINT (-87.695562 41.859228)  \n",
       "a3aa017e-a135-11e9-9cda-0a87ae2ba916 -87.664199   POINT (-87.664199 41.957081)  "
      ]
     },
     "execution_count": 9,
     "metadata": {},
     "output_type": "execute_result"
    }
   ],
   "source": [
    "df_stations.head()"
   ]
  },
  {
   "cell_type": "code",
   "execution_count": 10,
   "id": "3c4a92f0-d81f-4ccb-a0a6-138a0f8859fb",
   "metadata": {},
   "outputs": [],
   "source": [
    "\"\"\" add column showing station at which the bike hire starts \"\"\"\n",
    "\n",
    "df_stations['start_station_name'] = df_stations['Station Name']"
   ]
  },
  {
   "cell_type": "code",
   "execution_count": 11,
   "id": "d4e4d2ca-d114-48b4-a3a1-b341a2b104b4",
   "metadata": {},
   "outputs": [
    {
     "data": {
      "text/html": [
       "<div>\n",
       "<style scoped>\n",
       "    .dataframe tbody tr th:only-of-type {\n",
       "        vertical-align: middle;\n",
       "    }\n",
       "\n",
       "    .dataframe tbody tr th {\n",
       "        vertical-align: top;\n",
       "    }\n",
       "\n",
       "    .dataframe thead th {\n",
       "        text-align: right;\n",
       "    }\n",
       "</style>\n",
       "<table border=\"1\" class=\"dataframe\">\n",
       "  <thead>\n",
       "    <tr style=\"text-align: right;\">\n",
       "      <th></th>\n",
       "      <th>Station Name</th>\n",
       "      <th>Short Name</th>\n",
       "      <th>Total Docks</th>\n",
       "      <th>Docks in Service</th>\n",
       "      <th>Status</th>\n",
       "      <th>Latitude</th>\n",
       "      <th>Longitude</th>\n",
       "      <th>Location</th>\n",
       "      <th>start_station_name</th>\n",
       "    </tr>\n",
       "    <tr>\n",
       "      <th>ID</th>\n",
       "      <th></th>\n",
       "      <th></th>\n",
       "      <th></th>\n",
       "      <th></th>\n",
       "      <th></th>\n",
       "      <th></th>\n",
       "      <th></th>\n",
       "      <th></th>\n",
       "      <th></th>\n",
       "    </tr>\n",
       "  </thead>\n",
       "  <tbody>\n",
       "    <tr>\n",
       "      <th>a3ad5c90-a135-11e9-9cda-0a87ae2ba916</th>\n",
       "      <td>Dorchester Ave &amp; 49th St</td>\n",
       "      <td>KA1503000069</td>\n",
       "      <td>15</td>\n",
       "      <td>15</td>\n",
       "      <td>In Service</td>\n",
       "      <td>41.805772</td>\n",
       "      <td>-87.592464</td>\n",
       "      <td>POINT (-87.592464 41.805772)</td>\n",
       "      <td>Dorchester Ave &amp; 49th St</td>\n",
       "    </tr>\n",
       "    <tr>\n",
       "      <th>1571105068000485406</th>\n",
       "      <td>Narragansett &amp; Irving Park</td>\n",
       "      <td>NaN</td>\n",
       "      <td>9</td>\n",
       "      <td>9</td>\n",
       "      <td>In Service</td>\n",
       "      <td>41.952614</td>\n",
       "      <td>-87.785383</td>\n",
       "      <td>POINT (-87.7853829 41.952614)</td>\n",
       "      <td>Narragansett &amp; Irving Park</td>\n",
       "    </tr>\n",
       "    <tr>\n",
       "      <th>a3b2af02-a135-11e9-9cda-0a87ae2ba916</th>\n",
       "      <td>MLK Jr Dr &amp; 83rd St</td>\n",
       "      <td>586</td>\n",
       "      <td>11</td>\n",
       "      <td>11</td>\n",
       "      <td>In Service</td>\n",
       "      <td>41.743116</td>\n",
       "      <td>-87.614800</td>\n",
       "      <td>POINT (-87.6148 41.743116)</td>\n",
       "      <td>MLK Jr Dr &amp; 83rd St</td>\n",
       "    </tr>\n",
       "    <tr>\n",
       "      <th>1594046405283107528</th>\n",
       "      <td>California &amp; 16th St</td>\n",
       "      <td>NaN</td>\n",
       "      <td>9</td>\n",
       "      <td>9</td>\n",
       "      <td>In Service</td>\n",
       "      <td>41.859228</td>\n",
       "      <td>-87.695562</td>\n",
       "      <td>POINT (-87.695562 41.859228)</td>\n",
       "      <td>California &amp; 16th St</td>\n",
       "    </tr>\n",
       "    <tr>\n",
       "      <th>a3aa017e-a135-11e9-9cda-0a87ae2ba916</th>\n",
       "      <td>Southport Ave &amp; Clark St</td>\n",
       "      <td>TA1308000047</td>\n",
       "      <td>11</td>\n",
       "      <td>11</td>\n",
       "      <td>In Service</td>\n",
       "      <td>41.957081</td>\n",
       "      <td>-87.664199</td>\n",
       "      <td>POINT (-87.664199 41.957081)</td>\n",
       "      <td>Southport Ave &amp; Clark St</td>\n",
       "    </tr>\n",
       "  </tbody>\n",
       "</table>\n",
       "</div>"
      ],
      "text/plain": [
       "                                                    Station Name  \\\n",
       "ID                                                                 \n",
       "a3ad5c90-a135-11e9-9cda-0a87ae2ba916    Dorchester Ave & 49th St   \n",
       "1571105068000485406                   Narragansett & Irving Park   \n",
       "a3b2af02-a135-11e9-9cda-0a87ae2ba916         MLK Jr Dr & 83rd St   \n",
       "1594046405283107528                         California & 16th St   \n",
       "a3aa017e-a135-11e9-9cda-0a87ae2ba916    Southport Ave & Clark St   \n",
       "\n",
       "                                        Short Name  Total Docks  \\\n",
       "ID                                                                \n",
       "a3ad5c90-a135-11e9-9cda-0a87ae2ba916  KA1503000069           15   \n",
       "1571105068000485406                            NaN            9   \n",
       "a3b2af02-a135-11e9-9cda-0a87ae2ba916           586           11   \n",
       "1594046405283107528                            NaN            9   \n",
       "a3aa017e-a135-11e9-9cda-0a87ae2ba916  TA1308000047           11   \n",
       "\n",
       "                                      Docks in Service      Status   Latitude  \\\n",
       "ID                                                                              \n",
       "a3ad5c90-a135-11e9-9cda-0a87ae2ba916                15  In Service  41.805772   \n",
       "1571105068000485406                                  9  In Service  41.952614   \n",
       "a3b2af02-a135-11e9-9cda-0a87ae2ba916                11  In Service  41.743116   \n",
       "1594046405283107528                                  9  In Service  41.859228   \n",
       "a3aa017e-a135-11e9-9cda-0a87ae2ba916                11  In Service  41.957081   \n",
       "\n",
       "                                      Longitude  \\\n",
       "ID                                                \n",
       "a3ad5c90-a135-11e9-9cda-0a87ae2ba916 -87.592464   \n",
       "1571105068000485406                  -87.785383   \n",
       "a3b2af02-a135-11e9-9cda-0a87ae2ba916 -87.614800   \n",
       "1594046405283107528                  -87.695562   \n",
       "a3aa017e-a135-11e9-9cda-0a87ae2ba916 -87.664199   \n",
       "\n",
       "                                                           Location  \\\n",
       "ID                                                                    \n",
       "a3ad5c90-a135-11e9-9cda-0a87ae2ba916   POINT (-87.592464 41.805772)   \n",
       "1571105068000485406                   POINT (-87.7853829 41.952614)   \n",
       "a3b2af02-a135-11e9-9cda-0a87ae2ba916     POINT (-87.6148 41.743116)   \n",
       "1594046405283107528                    POINT (-87.695562 41.859228)   \n",
       "a3aa017e-a135-11e9-9cda-0a87ae2ba916   POINT (-87.664199 41.957081)   \n",
       "\n",
       "                                              start_station_name  \n",
       "ID                                                                \n",
       "a3ad5c90-a135-11e9-9cda-0a87ae2ba916    Dorchester Ave & 49th St  \n",
       "1571105068000485406                   Narragansett & Irving Park  \n",
       "a3b2af02-a135-11e9-9cda-0a87ae2ba916         MLK Jr Dr & 83rd St  \n",
       "1594046405283107528                         California & 16th St  \n",
       "a3aa017e-a135-11e9-9cda-0a87ae2ba916    Southport Ave & Clark St  "
      ]
     },
     "execution_count": 11,
     "metadata": {},
     "output_type": "execute_result"
    }
   ],
   "source": [
    "df_stations.head()"
   ]
  },
  {
   "cell_type": "code",
   "execution_count": 12,
   "id": "3fcbbf2d-9d2e-4f90-9f54-c44c8fd447f9",
   "metadata": {},
   "outputs": [],
   "source": [
    "\"\"\" rename column to show station at which bike hire ends \"\"\"\n",
    "\n",
    "df_stations.rename(columns = {'Station Name' : 'end_station_name'}, inplace = True)"
   ]
  },
  {
   "cell_type": "code",
   "execution_count": 13,
   "id": "001be2ea-1e49-480c-a040-0b08d4798d8d",
   "metadata": {},
   "outputs": [],
   "source": [
    "df_stations.reset_index(inplace = True)"
   ]
  },
  {
   "cell_type": "code",
   "execution_count": 14,
   "id": "8d19fef6-6521-4ac1-8838-78a929999d56",
   "metadata": {},
   "outputs": [],
   "source": [
    "\"\"\" create dataframe from subset of data with four columns \"\"\"\n",
    "\n",
    "df_stations = df_stations[['end_station_name', 'start_station_name', 'Latitude', 'Longitude']]"
   ]
  },
  {
   "cell_type": "code",
   "execution_count": 15,
   "id": "1a53321c-af34-4d9c-83ac-dba196378866",
   "metadata": {},
   "outputs": [
    {
     "data": {
      "text/html": [
       "<div>\n",
       "<style scoped>\n",
       "    .dataframe tbody tr th:only-of-type {\n",
       "        vertical-align: middle;\n",
       "    }\n",
       "\n",
       "    .dataframe tbody tr th {\n",
       "        vertical-align: top;\n",
       "    }\n",
       "\n",
       "    .dataframe thead th {\n",
       "        text-align: right;\n",
       "    }\n",
       "</style>\n",
       "<table border=\"1\" class=\"dataframe\">\n",
       "  <thead>\n",
       "    <tr style=\"text-align: right;\">\n",
       "      <th></th>\n",
       "      <th>end_station_name</th>\n",
       "      <th>start_station_name</th>\n",
       "      <th>Latitude</th>\n",
       "      <th>Longitude</th>\n",
       "    </tr>\n",
       "  </thead>\n",
       "  <tbody>\n",
       "    <tr>\n",
       "      <th>0</th>\n",
       "      <td>Dorchester Ave &amp; 49th St</td>\n",
       "      <td>Dorchester Ave &amp; 49th St</td>\n",
       "      <td>41.805772</td>\n",
       "      <td>-87.592464</td>\n",
       "    </tr>\n",
       "    <tr>\n",
       "      <th>1</th>\n",
       "      <td>Narragansett &amp; Irving Park</td>\n",
       "      <td>Narragansett &amp; Irving Park</td>\n",
       "      <td>41.952614</td>\n",
       "      <td>-87.785383</td>\n",
       "    </tr>\n",
       "    <tr>\n",
       "      <th>2</th>\n",
       "      <td>MLK Jr Dr &amp; 83rd St</td>\n",
       "      <td>MLK Jr Dr &amp; 83rd St</td>\n",
       "      <td>41.743116</td>\n",
       "      <td>-87.614800</td>\n",
       "    </tr>\n",
       "    <tr>\n",
       "      <th>3</th>\n",
       "      <td>California &amp; 16th St</td>\n",
       "      <td>California &amp; 16th St</td>\n",
       "      <td>41.859228</td>\n",
       "      <td>-87.695562</td>\n",
       "    </tr>\n",
       "    <tr>\n",
       "      <th>4</th>\n",
       "      <td>Southport Ave &amp; Clark St</td>\n",
       "      <td>Southport Ave &amp; Clark St</td>\n",
       "      <td>41.957081</td>\n",
       "      <td>-87.664199</td>\n",
       "    </tr>\n",
       "  </tbody>\n",
       "</table>\n",
       "</div>"
      ],
      "text/plain": [
       "             end_station_name          start_station_name   Latitude  \\\n",
       "0    Dorchester Ave & 49th St    Dorchester Ave & 49th St  41.805772   \n",
       "1  Narragansett & Irving Park  Narragansett & Irving Park  41.952614   \n",
       "2         MLK Jr Dr & 83rd St         MLK Jr Dr & 83rd St  41.743116   \n",
       "3        California & 16th St        California & 16th St  41.859228   \n",
       "4    Southport Ave & Clark St    Southport Ave & Clark St  41.957081   \n",
       "\n",
       "   Longitude  \n",
       "0 -87.592464  \n",
       "1 -87.785383  \n",
       "2 -87.614800  \n",
       "3 -87.695562  \n",
       "4 -87.664199  "
      ]
     },
     "execution_count": 15,
     "metadata": {},
     "output_type": "execute_result"
    }
   ],
   "source": [
    "df_stations.head()"
   ]
  },
  {
   "cell_type": "markdown",
   "id": "1ca597b7-1204-448e-a031-cbcb32ca31d1",
   "metadata": {},
   "source": [
    "By start station"
   ]
  },
  {
   "cell_type": "code",
   "execution_count": 16,
   "id": "17cc9872-a322-4a9e-b6a7-c67146e1ec58",
   "metadata": {},
   "outputs": [],
   "source": [
    "\"\"\" merge df_s with df_stations on 'start_station_name' column \"\"\"\n",
    "\n",
    "df_s = df_group.merge(df_stations, how = 'outer', on = 'start_station_name', indicator = 'merge_flag')"
   ]
  },
  {
   "cell_type": "code",
   "execution_count": 17,
   "id": "d3474cc1-dae8-4c51-adf6-24171255fce0",
   "metadata": {},
   "outputs": [
    {
     "data": {
      "text/plain": [
       "both          100966\n",
       "left_only      12713\n",
       "right_only       486\n",
       "Name: merge_flag, dtype: int64"
      ]
     },
     "execution_count": 17,
     "metadata": {},
     "output_type": "execute_result"
    }
   ],
   "source": [
    "df_s['merge_flag'].value_counts(dropna = False)"
   ]
  },
  {
   "cell_type": "code",
   "execution_count": 18,
   "id": "ee086edc-4ea2-4ed4-bfbe-100a40c574b6",
   "metadata": {},
   "outputs": [],
   "source": [
    "df_s = df_s[df_s['merge_flag'] =='both']"
   ]
  },
  {
   "cell_type": "code",
   "execution_count": 19,
   "id": "78347c9c-b28d-4f49-9672-55718c0a43ed",
   "metadata": {},
   "outputs": [
    {
     "data": {
      "text/html": [
       "<div>\n",
       "<style scoped>\n",
       "    .dataframe tbody tr th:only-of-type {\n",
       "        vertical-align: middle;\n",
       "    }\n",
       "\n",
       "    .dataframe tbody tr th {\n",
       "        vertical-align: top;\n",
       "    }\n",
       "\n",
       "    .dataframe thead th {\n",
       "        text-align: right;\n",
       "    }\n",
       "</style>\n",
       "<table border=\"1\" class=\"dataframe\">\n",
       "  <thead>\n",
       "    <tr style=\"text-align: right;\">\n",
       "      <th></th>\n",
       "      <th>start_station_name</th>\n",
       "      <th>end_station_name_x</th>\n",
       "      <th>trips</th>\n",
       "      <th>end_station_name_y</th>\n",
       "      <th>Latitude</th>\n",
       "      <th>Longitude</th>\n",
       "      <th>merge_flag</th>\n",
       "    </tr>\n",
       "  </thead>\n",
       "  <tbody>\n",
       "    <tr>\n",
       "      <th>0</th>\n",
       "      <td>2112 W Peterson Ave</td>\n",
       "      <td>2112 W Peterson Ave</td>\n",
       "      <td>14.0</td>\n",
       "      <td>2112 W Peterson Ave</td>\n",
       "      <td>41.991178</td>\n",
       "      <td>-87.683593</td>\n",
       "      <td>both</td>\n",
       "    </tr>\n",
       "    <tr>\n",
       "      <th>1</th>\n",
       "      <td>2112 W Peterson Ave</td>\n",
       "      <td>Ashland Ave &amp; Belle Plaine Ave</td>\n",
       "      <td>1.0</td>\n",
       "      <td>2112 W Peterson Ave</td>\n",
       "      <td>41.991178</td>\n",
       "      <td>-87.683593</td>\n",
       "      <td>both</td>\n",
       "    </tr>\n",
       "    <tr>\n",
       "      <th>2</th>\n",
       "      <td>2112 W Peterson Ave</td>\n",
       "      <td>Avondale Ave &amp; Irving Park Rd</td>\n",
       "      <td>1.0</td>\n",
       "      <td>2112 W Peterson Ave</td>\n",
       "      <td>41.991178</td>\n",
       "      <td>-87.683593</td>\n",
       "      <td>both</td>\n",
       "    </tr>\n",
       "    <tr>\n",
       "      <th>3</th>\n",
       "      <td>2112 W Peterson Ave</td>\n",
       "      <td>Benson Ave &amp; Church St</td>\n",
       "      <td>2.0</td>\n",
       "      <td>2112 W Peterson Ave</td>\n",
       "      <td>41.991178</td>\n",
       "      <td>-87.683593</td>\n",
       "      <td>both</td>\n",
       "    </tr>\n",
       "    <tr>\n",
       "      <th>4</th>\n",
       "      <td>2112 W Peterson Ave</td>\n",
       "      <td>Broadway &amp; Argyle St</td>\n",
       "      <td>2.0</td>\n",
       "      <td>2112 W Peterson Ave</td>\n",
       "      <td>41.991178</td>\n",
       "      <td>-87.683593</td>\n",
       "      <td>both</td>\n",
       "    </tr>\n",
       "  </tbody>\n",
       "</table>\n",
       "</div>"
      ],
      "text/plain": [
       "    start_station_name              end_station_name_x  trips  \\\n",
       "0  2112 W Peterson Ave             2112 W Peterson Ave   14.0   \n",
       "1  2112 W Peterson Ave  Ashland Ave & Belle Plaine Ave    1.0   \n",
       "2  2112 W Peterson Ave   Avondale Ave & Irving Park Rd    1.0   \n",
       "3  2112 W Peterson Ave          Benson Ave & Church St    2.0   \n",
       "4  2112 W Peterson Ave            Broadway & Argyle St    2.0   \n",
       "\n",
       "    end_station_name_y   Latitude  Longitude merge_flag  \n",
       "0  2112 W Peterson Ave  41.991178 -87.683593       both  \n",
       "1  2112 W Peterson Ave  41.991178 -87.683593       both  \n",
       "2  2112 W Peterson Ave  41.991178 -87.683593       both  \n",
       "3  2112 W Peterson Ave  41.991178 -87.683593       both  \n",
       "4  2112 W Peterson Ave  41.991178 -87.683593       both  "
      ]
     },
     "execution_count": 19,
     "metadata": {},
     "output_type": "execute_result"
    }
   ],
   "source": [
    "df_s.head()"
   ]
  },
  {
   "cell_type": "code",
   "execution_count": 20,
   "id": "1c18bac7-4db6-461a-a25c-abbb898bfbb5",
   "metadata": {},
   "outputs": [
    {
     "data": {
      "text/plain": [
       "(100966, 7)"
      ]
     },
     "execution_count": 20,
     "metadata": {},
     "output_type": "execute_result"
    }
   ],
   "source": [
    "df_s.shape"
   ]
  },
  {
   "cell_type": "code",
   "execution_count": 21,
   "id": "5feb1151-9dfa-46c6-b10d-6efe5e34ef02",
   "metadata": {},
   "outputs": [],
   "source": [
    "df_s.drop(columns = {'end_station_name_y'}, inplace = True)"
   ]
  },
  {
   "cell_type": "code",
   "execution_count": 22,
   "id": "92565635-0e3e-4240-aa72-9209e4d8e9ae",
   "metadata": {},
   "outputs": [],
   "source": [
    "df_s.rename(columns = {'end_station_name_x' : 'end_station_name'}, inplace = True)"
   ]
  },
  {
   "cell_type": "code",
   "execution_count": 23,
   "id": "0ac00611-070f-488f-9a3f-a6b4fd65f0e4",
   "metadata": {},
   "outputs": [
    {
     "data": {
      "text/html": [
       "<div>\n",
       "<style scoped>\n",
       "    .dataframe tbody tr th:only-of-type {\n",
       "        vertical-align: middle;\n",
       "    }\n",
       "\n",
       "    .dataframe tbody tr th {\n",
       "        vertical-align: top;\n",
       "    }\n",
       "\n",
       "    .dataframe thead th {\n",
       "        text-align: right;\n",
       "    }\n",
       "</style>\n",
       "<table border=\"1\" class=\"dataframe\">\n",
       "  <thead>\n",
       "    <tr style=\"text-align: right;\">\n",
       "      <th></th>\n",
       "      <th>start_station_name</th>\n",
       "      <th>end_station_name</th>\n",
       "      <th>trips</th>\n",
       "      <th>Latitude</th>\n",
       "      <th>Longitude</th>\n",
       "      <th>merge_flag</th>\n",
       "    </tr>\n",
       "  </thead>\n",
       "  <tbody>\n",
       "    <tr>\n",
       "      <th>0</th>\n",
       "      <td>2112 W Peterson Ave</td>\n",
       "      <td>2112 W Peterson Ave</td>\n",
       "      <td>14.0</td>\n",
       "      <td>41.991178</td>\n",
       "      <td>-87.683593</td>\n",
       "      <td>both</td>\n",
       "    </tr>\n",
       "    <tr>\n",
       "      <th>1</th>\n",
       "      <td>2112 W Peterson Ave</td>\n",
       "      <td>Ashland Ave &amp; Belle Plaine Ave</td>\n",
       "      <td>1.0</td>\n",
       "      <td>41.991178</td>\n",
       "      <td>-87.683593</td>\n",
       "      <td>both</td>\n",
       "    </tr>\n",
       "    <tr>\n",
       "      <th>2</th>\n",
       "      <td>2112 W Peterson Ave</td>\n",
       "      <td>Avondale Ave &amp; Irving Park Rd</td>\n",
       "      <td>1.0</td>\n",
       "      <td>41.991178</td>\n",
       "      <td>-87.683593</td>\n",
       "      <td>both</td>\n",
       "    </tr>\n",
       "    <tr>\n",
       "      <th>3</th>\n",
       "      <td>2112 W Peterson Ave</td>\n",
       "      <td>Benson Ave &amp; Church St</td>\n",
       "      <td>2.0</td>\n",
       "      <td>41.991178</td>\n",
       "      <td>-87.683593</td>\n",
       "      <td>both</td>\n",
       "    </tr>\n",
       "    <tr>\n",
       "      <th>4</th>\n",
       "      <td>2112 W Peterson Ave</td>\n",
       "      <td>Broadway &amp; Argyle St</td>\n",
       "      <td>2.0</td>\n",
       "      <td>41.991178</td>\n",
       "      <td>-87.683593</td>\n",
       "      <td>both</td>\n",
       "    </tr>\n",
       "  </tbody>\n",
       "</table>\n",
       "</div>"
      ],
      "text/plain": [
       "    start_station_name                end_station_name  trips   Latitude  \\\n",
       "0  2112 W Peterson Ave             2112 W Peterson Ave   14.0  41.991178   \n",
       "1  2112 W Peterson Ave  Ashland Ave & Belle Plaine Ave    1.0  41.991178   \n",
       "2  2112 W Peterson Ave   Avondale Ave & Irving Park Rd    1.0  41.991178   \n",
       "3  2112 W Peterson Ave          Benson Ave & Church St    2.0  41.991178   \n",
       "4  2112 W Peterson Ave            Broadway & Argyle St    2.0  41.991178   \n",
       "\n",
       "   Longitude merge_flag  \n",
       "0 -87.683593       both  \n",
       "1 -87.683593       both  \n",
       "2 -87.683593       both  \n",
       "3 -87.683593       both  \n",
       "4 -87.683593       both  "
      ]
     },
     "execution_count": 23,
     "metadata": {},
     "output_type": "execute_result"
    }
   ],
   "source": [
    "df_s.head()"
   ]
  },
  {
   "cell_type": "markdown",
   "id": "9acef77f-afa6-42ad-ae89-7f532ca13e30",
   "metadata": {},
   "source": [
    "By end station"
   ]
  },
  {
   "cell_type": "code",
   "execution_count": 24,
   "id": "6937ffbf-6bbe-458f-9d05-bcf10c22f598",
   "metadata": {},
   "outputs": [],
   "source": [
    "\"\"\" merge df_s with df_stations on 'end_station_name' column \"\"\"\n",
    "\n",
    "df_final = df_s.merge(df_stations, how = 'outer', on = 'end_station_name', indicator = 'merge_flag_2')"
   ]
  },
  {
   "cell_type": "code",
   "execution_count": 25,
   "id": "7ae40660-1e8d-4098-b09e-bb81fd8d99db",
   "metadata": {},
   "outputs": [
    {
     "data": {
      "text/html": [
       "<div>\n",
       "<style scoped>\n",
       "    .dataframe tbody tr th:only-of-type {\n",
       "        vertical-align: middle;\n",
       "    }\n",
       "\n",
       "    .dataframe tbody tr th {\n",
       "        vertical-align: top;\n",
       "    }\n",
       "\n",
       "    .dataframe thead th {\n",
       "        text-align: right;\n",
       "    }\n",
       "</style>\n",
       "<table border=\"1\" class=\"dataframe\">\n",
       "  <thead>\n",
       "    <tr style=\"text-align: right;\">\n",
       "      <th></th>\n",
       "      <th>start_station_name_x</th>\n",
       "      <th>end_station_name</th>\n",
       "      <th>trips</th>\n",
       "      <th>Latitude_x</th>\n",
       "      <th>Longitude_x</th>\n",
       "      <th>merge_flag</th>\n",
       "      <th>start_station_name_y</th>\n",
       "      <th>Latitude_y</th>\n",
       "      <th>Longitude_y</th>\n",
       "      <th>merge_flag_2</th>\n",
       "    </tr>\n",
       "  </thead>\n",
       "  <tbody>\n",
       "    <tr>\n",
       "      <th>0</th>\n",
       "      <td>2112 W Peterson Ave</td>\n",
       "      <td>2112 W Peterson Ave</td>\n",
       "      <td>14.0</td>\n",
       "      <td>41.991178</td>\n",
       "      <td>-87.683593</td>\n",
       "      <td>both</td>\n",
       "      <td>2112 W Peterson Ave</td>\n",
       "      <td>41.991178</td>\n",
       "      <td>-87.683593</td>\n",
       "      <td>both</td>\n",
       "    </tr>\n",
       "    <tr>\n",
       "      <th>1</th>\n",
       "      <td>Ashland Ave &amp; Belle Plaine Ave</td>\n",
       "      <td>2112 W Peterson Ave</td>\n",
       "      <td>1.0</td>\n",
       "      <td>41.956057</td>\n",
       "      <td>-87.668835</td>\n",
       "      <td>both</td>\n",
       "      <td>2112 W Peterson Ave</td>\n",
       "      <td>41.991178</td>\n",
       "      <td>-87.683593</td>\n",
       "      <td>both</td>\n",
       "    </tr>\n",
       "    <tr>\n",
       "      <th>2</th>\n",
       "      <td>Avondale Ave &amp; Irving Park Rd</td>\n",
       "      <td>2112 W Peterson Ave</td>\n",
       "      <td>1.0</td>\n",
       "      <td>41.953393</td>\n",
       "      <td>-87.732002</td>\n",
       "      <td>both</td>\n",
       "      <td>2112 W Peterson Ave</td>\n",
       "      <td>41.991178</td>\n",
       "      <td>-87.683593</td>\n",
       "      <td>both</td>\n",
       "    </tr>\n",
       "    <tr>\n",
       "      <th>3</th>\n",
       "      <td>Broadway &amp; Barry Ave</td>\n",
       "      <td>2112 W Peterson Ave</td>\n",
       "      <td>5.0</td>\n",
       "      <td>41.937582</td>\n",
       "      <td>-87.644098</td>\n",
       "      <td>both</td>\n",
       "      <td>2112 W Peterson Ave</td>\n",
       "      <td>41.991178</td>\n",
       "      <td>-87.683593</td>\n",
       "      <td>both</td>\n",
       "    </tr>\n",
       "    <tr>\n",
       "      <th>4</th>\n",
       "      <td>Broadway &amp; Berwyn Ave</td>\n",
       "      <td>2112 W Peterson Ave</td>\n",
       "      <td>6.0</td>\n",
       "      <td>41.978361</td>\n",
       "      <td>-87.659789</td>\n",
       "      <td>both</td>\n",
       "      <td>2112 W Peterson Ave</td>\n",
       "      <td>41.991178</td>\n",
       "      <td>-87.683593</td>\n",
       "      <td>both</td>\n",
       "    </tr>\n",
       "  </tbody>\n",
       "</table>\n",
       "</div>"
      ],
      "text/plain": [
       "             start_station_name_x     end_station_name  trips  Latitude_x  \\\n",
       "0             2112 W Peterson Ave  2112 W Peterson Ave   14.0   41.991178   \n",
       "1  Ashland Ave & Belle Plaine Ave  2112 W Peterson Ave    1.0   41.956057   \n",
       "2   Avondale Ave & Irving Park Rd  2112 W Peterson Ave    1.0   41.953393   \n",
       "3            Broadway & Barry Ave  2112 W Peterson Ave    5.0   41.937582   \n",
       "4           Broadway & Berwyn Ave  2112 W Peterson Ave    6.0   41.978361   \n",
       "\n",
       "   Longitude_x merge_flag start_station_name_y  Latitude_y  Longitude_y  \\\n",
       "0   -87.683593       both  2112 W Peterson Ave   41.991178   -87.683593   \n",
       "1   -87.668835       both  2112 W Peterson Ave   41.991178   -87.683593   \n",
       "2   -87.732002       both  2112 W Peterson Ave   41.991178   -87.683593   \n",
       "3   -87.644098       both  2112 W Peterson Ave   41.991178   -87.683593   \n",
       "4   -87.659789       both  2112 W Peterson Ave   41.991178   -87.683593   \n",
       "\n",
       "  merge_flag_2  \n",
       "0         both  \n",
       "1         both  \n",
       "2         both  \n",
       "3         both  \n",
       "4         both  "
      ]
     },
     "execution_count": 25,
     "metadata": {},
     "output_type": "execute_result"
    }
   ],
   "source": [
    "df_final.head()"
   ]
  },
  {
   "cell_type": "code",
   "execution_count": 26,
   "id": "9002d58c-3d37-4c23-b7d6-c508b18222d5",
   "metadata": {},
   "outputs": [],
   "source": [
    "df_final = df_final[df_final['merge_flag_2'] =='both']"
   ]
  },
  {
   "cell_type": "code",
   "execution_count": 27,
   "id": "3e61e51b-c478-4a3a-8ebe-19828241dad0",
   "metadata": {},
   "outputs": [],
   "source": [
    "df_final.drop(columns = {'start_station_name_y', 'merge_flag', 'merge_flag_2'}, inplace = True)"
   ]
  },
  {
   "cell_type": "code",
   "execution_count": 28,
   "id": "a106ce57-991d-4725-a814-a2bb2cc9ddbb",
   "metadata": {},
   "outputs": [],
   "source": [
    "df_final.rename(columns = {'start_station_name_x' : 'start_station_name'}, inplace = True)"
   ]
  },
  {
   "cell_type": "code",
   "execution_count": 29,
   "id": "3fd1ab50-ebe2-4198-8f0b-65a0a49d222d",
   "metadata": {},
   "outputs": [
    {
     "data": {
      "text/html": [
       "<div>\n",
       "<style scoped>\n",
       "    .dataframe tbody tr th:only-of-type {\n",
       "        vertical-align: middle;\n",
       "    }\n",
       "\n",
       "    .dataframe tbody tr th {\n",
       "        vertical-align: top;\n",
       "    }\n",
       "\n",
       "    .dataframe thead th {\n",
       "        text-align: right;\n",
       "    }\n",
       "</style>\n",
       "<table border=\"1\" class=\"dataframe\">\n",
       "  <thead>\n",
       "    <tr style=\"text-align: right;\">\n",
       "      <th></th>\n",
       "      <th>start_station_name</th>\n",
       "      <th>end_station_name</th>\n",
       "      <th>trips</th>\n",
       "      <th>Latitude_x</th>\n",
       "      <th>Longitude_x</th>\n",
       "      <th>Latitude_y</th>\n",
       "      <th>Longitude_y</th>\n",
       "    </tr>\n",
       "  </thead>\n",
       "  <tbody>\n",
       "    <tr>\n",
       "      <th>0</th>\n",
       "      <td>2112 W Peterson Ave</td>\n",
       "      <td>2112 W Peterson Ave</td>\n",
       "      <td>14.0</td>\n",
       "      <td>41.991178</td>\n",
       "      <td>-87.683593</td>\n",
       "      <td>41.991178</td>\n",
       "      <td>-87.683593</td>\n",
       "    </tr>\n",
       "    <tr>\n",
       "      <th>1</th>\n",
       "      <td>Ashland Ave &amp; Belle Plaine Ave</td>\n",
       "      <td>2112 W Peterson Ave</td>\n",
       "      <td>1.0</td>\n",
       "      <td>41.956057</td>\n",
       "      <td>-87.668835</td>\n",
       "      <td>41.991178</td>\n",
       "      <td>-87.683593</td>\n",
       "    </tr>\n",
       "    <tr>\n",
       "      <th>2</th>\n",
       "      <td>Avondale Ave &amp; Irving Park Rd</td>\n",
       "      <td>2112 W Peterson Ave</td>\n",
       "      <td>1.0</td>\n",
       "      <td>41.953393</td>\n",
       "      <td>-87.732002</td>\n",
       "      <td>41.991178</td>\n",
       "      <td>-87.683593</td>\n",
       "    </tr>\n",
       "    <tr>\n",
       "      <th>3</th>\n",
       "      <td>Broadway &amp; Barry Ave</td>\n",
       "      <td>2112 W Peterson Ave</td>\n",
       "      <td>5.0</td>\n",
       "      <td>41.937582</td>\n",
       "      <td>-87.644098</td>\n",
       "      <td>41.991178</td>\n",
       "      <td>-87.683593</td>\n",
       "    </tr>\n",
       "    <tr>\n",
       "      <th>4</th>\n",
       "      <td>Broadway &amp; Berwyn Ave</td>\n",
       "      <td>2112 W Peterson Ave</td>\n",
       "      <td>6.0</td>\n",
       "      <td>41.978361</td>\n",
       "      <td>-87.659789</td>\n",
       "      <td>41.991178</td>\n",
       "      <td>-87.683593</td>\n",
       "    </tr>\n",
       "  </tbody>\n",
       "</table>\n",
       "</div>"
      ],
      "text/plain": [
       "               start_station_name     end_station_name  trips  Latitude_x  \\\n",
       "0             2112 W Peterson Ave  2112 W Peterson Ave   14.0   41.991178   \n",
       "1  Ashland Ave & Belle Plaine Ave  2112 W Peterson Ave    1.0   41.956057   \n",
       "2   Avondale Ave & Irving Park Rd  2112 W Peterson Ave    1.0   41.953393   \n",
       "3            Broadway & Barry Ave  2112 W Peterson Ave    5.0   41.937582   \n",
       "4           Broadway & Berwyn Ave  2112 W Peterson Ave    6.0   41.978361   \n",
       "\n",
       "   Longitude_x  Latitude_y  Longitude_y  \n",
       "0   -87.683593   41.991178   -87.683593  \n",
       "1   -87.668835   41.991178   -87.683593  \n",
       "2   -87.732002   41.991178   -87.683593  \n",
       "3   -87.644098   41.991178   -87.683593  \n",
       "4   -87.659789   41.991178   -87.683593  "
      ]
     },
     "execution_count": 29,
     "metadata": {},
     "output_type": "execute_result"
    }
   ],
   "source": [
    "df_final.head()"
   ]
  },
  {
   "cell_type": "code",
   "execution_count": 37,
   "id": "b1a6f96c-672c-479e-af65-f7694f821847",
   "metadata": {},
   "outputs": [],
   "source": [
    "\"\"\" rename both sets of longitude and latitude columns for clarity \"\"\"\n",
    "\n",
    "df_final.rename(columns = {'Latitude_x' : 'start_latitude', 'Longitude_x' : 'start_longitude', \n",
    "       'Latitude_y' : 'end_latitude', 'Longitude_y' : 'end_longitude',}, inplace = True)"
   ]
  },
  {
   "cell_type": "markdown",
   "id": "588e6540-d4ab-405c-9ab5-d3df09d54b90",
   "metadata": {},
   "source": [
    "### 4. Initialise instance of kepler.gl map"
   ]
  },
  {
   "cell_type": "code",
   "execution_count": 31,
   "id": "f2974fe0-f03a-4f89-bf2d-f8e64f637f9c",
   "metadata": {},
   "outputs": [],
   "source": [
    "df_final.to_csv('final_locations_for_map.csv')"
   ]
  },
  {
   "cell_type": "code",
   "execution_count": 32,
   "id": "ad3fe60b-69bc-473a-a160-6f5a4f9af7cc",
   "metadata": {
    "scrolled": false
   },
   "outputs": [
    {
     "name": "stdout",
     "output_type": "stream",
     "text": [
      "User Guide: https://docs.kepler.gl/docs/keplergl-jupyter\n"
     ]
    },
    {
     "data": {
      "application/vnd.jupyter.widget-view+json": {
       "model_id": "91c6f8f107e24d988620709c42756eb7",
       "version_major": 2,
       "version_minor": 0
      },
      "text/plain": [
       "KeplerGl(data={'data_1':                          start_station_name     end_station_name  trips  \\\n",
       "0         …"
      ]
     },
     "metadata": {},
     "output_type": "display_data"
    }
   ],
   "source": [
    "# create instance of kepler.gl map\n",
    "\n",
    "m = KeplerGl(height = 700, data={'data_1': df_final})\n",
    "m"
   ]
  },
  {
   "cell_type": "markdown",
   "id": "a4e3c39d",
   "metadata": {},
   "source": [
    "### 5. Customise map output"
   ]
  },
  {
   "cell_type": "markdown",
   "id": "d5ae733a",
   "metadata": {},
   "source": [
    "I chose to continue with the 'autumn' palette that I used for visualisations in the last task. This provides continuity in the theme for what will eventually become my finished dashboard. I marked the start and end points as yellow, with orange for the start of the trip arc and red for the end of the arc. The start and end points did not need separate colours as the changing colour of the arc tells the narrative of the direction of travel. I changed these colours using the Layer tab in the settings menu, moving away from the default palette which made the map look too busy."
   ]
  },
  {
   "cell_type": "markdown",
   "id": "c7074c71",
   "metadata": {},
   "source": [
    "### 6. Add filter to map"
   ]
  },
  {
   "cell_type": "markdown",
   "id": "a6a0bd05",
   "metadata": {},
   "source": [
    "Having filtered my map to journeys that occurred more than 3000 times, it was clear that there were two distinct hubs - one on the coast near Navy Pier and another at Millennium train station. \n",
    "\n",
    "The first (Navy Pier) is the location of some of Chicago's biggest tourist attractions - Chicago's Children's Museum, the pier itself and Ohio Street Beach. The journeys generally finished their, with popular start points including the Theatre on the Lake, Shedd Aquarium and Millennium Park.\n",
    "\n",
    "The second, at Millennium train station, is just north of Millennium Park, a large, popular park that spans several blocks. Among its many points of interest is the Art Institute of Chicago and the Abraham Lincold statue. This forms both a popular start and end stop, linking with important transport hubs at Ogilvie Transportation Center and Chicago Union Station, as well as the Chicago Opera House."
   ]
  },
  {
   "cell_type": "markdown",
   "id": "a29aa7d6",
   "metadata": {},
   "source": [
    "### 7. Create config object"
   ]
  },
  {
   "cell_type": "code",
   "execution_count": 33,
   "id": "99bef877",
   "metadata": {},
   "outputs": [],
   "source": [
    "config = m.config"
   ]
  },
  {
   "cell_type": "code",
   "execution_count": 34,
   "id": "d302faa3",
   "metadata": {},
   "outputs": [
    {
     "data": {
      "text/plain": [
       "{}"
      ]
     },
     "execution_count": 34,
     "metadata": {},
     "output_type": "execute_result"
    }
   ],
   "source": [
    "config"
   ]
  },
  {
   "cell_type": "code",
   "execution_count": 35,
   "id": "75b6cef8",
   "metadata": {},
   "outputs": [],
   "source": [
    "import json\n",
    "with open(\"config.json\", \"w\") as outfile:\n",
    "    json.dump(config, outfile)"
   ]
  },
  {
   "cell_type": "code",
   "execution_count": 36,
   "id": "4b2d16aa",
   "metadata": {},
   "outputs": [
    {
     "name": "stdout",
     "output_type": "stream",
     "text": [
      "Map saved to Chicago_bike_trips.html!\n"
     ]
    }
   ],
   "source": [
    "# save map\n",
    "\n",
    "m.save_to_html(file_name = 'Chicago_bike_trips.html', read_only = False, config = config)"
   ]
  },
  {
   "cell_type": "code",
   "execution_count": null,
   "id": "ff1550d6",
   "metadata": {},
   "outputs": [],
   "source": []
  }
 ],
 "metadata": {
  "kernelspec": {
   "display_name": "Python [conda env:venv_bike_sharing]",
   "language": "python",
   "name": "conda-env-venv_bike_sharing-py"
  },
  "language_info": {
   "codemirror_mode": {
    "name": "ipython",
    "version": 3
   },
   "file_extension": ".py",
   "mimetype": "text/x-python",
   "name": "python",
   "nbconvert_exporter": "python",
   "pygments_lexer": "ipython3",
   "version": "3.9.20"
  }
 },
 "nbformat": 4,
 "nbformat_minor": 5
}
